{
 "cells": [
  {
   "cell_type": "code",
   "execution_count": 1,
   "id": "91906715",
   "metadata": {},
   "outputs": [],
   "source": [
    "import math\n",
    "import numpy\n",
    "import pandas"
   ]
  },
  {
   "cell_type": "code",
   "execution_count": 43,
   "id": "8ad61f8e",
   "metadata": {},
   "outputs": [
    {
     "name": "stdout",
     "output_type": "stream",
     "text": [
      "Enter the frist number\n",
      "4\n",
      "Enter the second number\n",
      "5\n",
      "select one of the opreations ['+', '-', '*', '/']\n",
      "/\n",
      "the output is:  0.8\n",
      "DO YOU WANT TO Exsit?Exsit\n"
     ]
    }
   ],
   "source": [
    "def show_menu():\n",
    "    print (\"Enter the frist number\")\n",
    "    num1=float(input())\n",
    "    print(\"Enter the second number\")\n",
    "    num2=float(input())\n",
    "    x=[\"+\",\"-\",\"*\",\"/\"]\n",
    "    print(\"select one of the opreations\",x)\n",
    "    opreator=str(input())\n",
    "    if opreator == x[0]:\n",
    "        print(\"the output is: \" ,num1+num2)\n",
    "    elif opreator== x[1]:\n",
    "        print(\"the output is: \" ,num1-num2)\n",
    "    elif opreator== x[2]:\n",
    "        print(\"the output is: \" ,num1*num2)\n",
    "    elif opreator== x[3]:\n",
    "        print(\"the output is: \" ,num1/num2)\n",
    "    else:\n",
    "        print(\"try again\")\n",
    "show_menu()\n",
    "r=input(\"DO YOU WANT TO Exsit?\")\n",
    "for i in r:\n",
    "    if r==(\"Exsit\"):\n",
    "        break\n",
    "    else:\n",
    "         show_menu()\n",
    "\n"
   ]
  },
  {
   "cell_type": "code",
   "execution_count": 76,
   "id": "d9877277",
   "metadata": {},
   "outputs": [
    {
     "name": "stdout",
     "output_type": "stream",
     "text": [
      "Enter the number:\n",
      "5\n",
      "prime\n"
     ]
    }
   ],
   "source": [
    "def prime_num():\n",
    "    print(\"Enter the number:\")    \n",
    "    x= float(input())\n",
    "    i=1\n",
    "    count=0\n",
    "    while i<=x:\n",
    "        if x%i==0:\n",
    "            count=count+1\n",
    "        i=i+1       \n",
    "    if count==2:\n",
    "        print(\"prime\")\n",
    "    else:\n",
    "        print(\"not prime\")  \n",
    "prime_num()       "
   ]
  },
  {
   "cell_type": "code",
   "execution_count": 80,
   "id": "ab7be2bd",
   "metadata": {},
   "outputs": [
    {
     "name": "stdout",
     "output_type": "stream",
     "text": [
      "Enter the number:\n",
      "10\n",
      "It's not pronic number\n"
     ]
    }
   ],
   "source": [
    "def pronic_num():\n",
    "    print(\"Enter the number:\") \n",
    "    n=int(input())\n",
    "    i=1\n",
    "    count=0\n",
    "    for i in range (1,n+1):\n",
    "        if(i*(i+1)==n):\n",
    "            count=1\n",
    "            break\n",
    "    if count==1:\n",
    "        print(\"It's a pronic number\")\n",
    "    else:\n",
    "        print(\"It's not pronic number\")\n",
    "pronic_num()"
   ]
  },
  {
   "cell_type": "code",
   "execution_count": null,
   "id": "fa83724b",
   "metadata": {},
   "outputs": [],
   "source": []
  },
  {
   "cell_type": "code",
   "execution_count": null,
   "id": "092d842e",
   "metadata": {},
   "outputs": [],
   "source": []
  }
 ],
 "metadata": {
  "kernelspec": {
   "display_name": "Python 3 (ipykernel)",
   "language": "python",
   "name": "python3"
  },
  "language_info": {
   "codemirror_mode": {
    "name": "ipython",
    "version": 3
   },
   "file_extension": ".py",
   "mimetype": "text/x-python",
   "name": "python",
   "nbconvert_exporter": "python",
   "pygments_lexer": "ipython3",
   "version": "3.9.12"
  }
 },
 "nbformat": 4,
 "nbformat_minor": 5
}
